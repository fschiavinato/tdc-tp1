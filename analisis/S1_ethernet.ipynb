{
 "cells": [
  {
   "cell_type": "code",
   "execution_count": 1,
   "metadata": {},
   "outputs": [],
   "source": [
    "from scapy.all import *\n",
    "import matplotlib.pyplot as plt\n",
    "import numpy as np\n",
    "import pandas as pd\n",
    "import math"
   ]
  },
  {
   "cell_type": "code",
   "execution_count": 2,
   "metadata": {},
   "outputs": [],
   "source": [
    "paquetes = rdpcap('../datos/sniff_ethernet.cap')"
   ]
  },
  {
   "cell_type": "code",
   "execution_count": 3,
   "metadata": {},
   "outputs": [],
   "source": [
    "freq = {}\n",
    "paquetes = paquetes.filter(lambda pkt: pkt.getlayer(1) != None and Ether in pkt)\n",
    "for pkt in paquetes:\n",
    "    # Ethernet\n",
    "    tipo = 'broadcast' if pkt[Ether].dst == 'ff:ff:ff:ff:ff:ff' else 'unicast'\n",
    "    proto = pkt.getlayer(1).name\n",
    "\n",
    "    # Wifi\n",
    "    #\n",
    "\n",
    "    freq[(tipo,proto)] = freq[(tipo,proto)] + 1 if (tipo,proto) in freq else 1\n",
    "\n",
    "entropia = 0\n",
    "for k in freq:\n",
    "        p = freq[k] / len(paquetes) \n",
    "        entropia += -p * math.log(p)\n",
    "        \n",
    "\n",
    "max_entropia = math.log(len(freq))"
   ]
  },
  {
   "cell_type": "code",
   "execution_count": 4,
   "metadata": {
    "scrolled": true
   },
   "outputs": [
    {
     "data": {
      "text/html": [
       "<div>\n",
       "<style scoped>\n",
       "    .dataframe tbody tr th:only-of-type {\n",
       "        vertical-align: middle;\n",
       "    }\n",
       "\n",
       "    .dataframe tbody tr th {\n",
       "        vertical-align: top;\n",
       "    }\n",
       "\n",
       "    .dataframe thead th {\n",
       "        text-align: right;\n",
       "    }\n",
       "</style>\n",
       "<table border=\"1\" class=\"dataframe\">\n",
       "  <thead>\n",
       "    <tr style=\"text-align: right;\">\n",
       "      <th></th>\n",
       "      <th></th>\n",
       "      <th>Cantidad de Paquetes</th>\n",
       "      <th>Información [Bits]</th>\n",
       "    </tr>\n",
       "    <tr>\n",
       "      <th>Tipo</th>\n",
       "      <th>Protocolo</th>\n",
       "      <th></th>\n",
       "      <th></th>\n",
       "    </tr>\n",
       "  </thead>\n",
       "  <tbody>\n",
       "    <tr>\n",
       "      <th rowspan=\"2\" valign=\"top\">unicast</th>\n",
       "      <th>LLC</th>\n",
       "      <td>1</td>\n",
       "      <td>9.208138</td>\n",
       "    </tr>\n",
       "    <tr>\n",
       "      <th>EAPOL</th>\n",
       "      <td>16</td>\n",
       "      <td>6.435549</td>\n",
       "    </tr>\n",
       "    <tr>\n",
       "      <th rowspan=\"2\" valign=\"top\">broadcast</th>\n",
       "      <th>IP</th>\n",
       "      <td>273</td>\n",
       "      <td>3.598666</td>\n",
       "    </tr>\n",
       "    <tr>\n",
       "      <th>ARP</th>\n",
       "      <td>483</td>\n",
       "      <td>3.028121</td>\n",
       "    </tr>\n",
       "    <tr>\n",
       "      <th rowspan=\"3\" valign=\"top\">unicast</th>\n",
       "      <th>IPv6</th>\n",
       "      <td>1284</td>\n",
       "      <td>2.050402</td>\n",
       "    </tr>\n",
       "    <tr>\n",
       "      <th>ARP</th>\n",
       "      <td>2246</td>\n",
       "      <td>1.491232</td>\n",
       "    </tr>\n",
       "    <tr>\n",
       "      <th>IP</th>\n",
       "      <td>5675</td>\n",
       "      <td>0.564312</td>\n",
       "    </tr>\n",
       "  </tbody>\n",
       "</table>\n",
       "</div>"
      ],
      "text/plain": [
       "                     Cantidad de Paquetes  Información [Bits]\n",
       "Tipo      Protocolo                                          \n",
       "unicast   LLC                           1            9.208138\n",
       "          EAPOL                        16            6.435549\n",
       "broadcast IP                          273            3.598666\n",
       "          ARP                         483            3.028121\n",
       "unicast   IPv6                       1284            2.050402\n",
       "          ARP                        2246            1.491232\n",
       "          IP                         5675            0.564312"
      ]
     },
     "execution_count": 4,
     "metadata": {},
     "output_type": "execute_result"
    }
   ],
   "source": [
    "tablainfo = pd.Series(data = freq).to_frame(name = \"Cantidad de Paquetes\")\n",
    "tablainfo.index = tablainfo.index.set_names([\"Tipo\",\"Protocolo\"])\n",
    "tablainfo['Información [Bits]'] = tablainfo['Cantidad de Paquetes'].apply(lambda x: np.log(len(paquetes)/x))\n",
    "tablainfo.sort_values('Información [Bits]', inplace = True, ascending = False)\n",
    "tablainfo"
   ]
  },
  {
   "cell_type": "code",
   "execution_count": 5,
   "metadata": {},
   "outputs": [
    {
     "data": {
      "text/html": [
       "<div>\n",
       "<style scoped>\n",
       "    .dataframe tbody tr th:only-of-type {\n",
       "        vertical-align: middle;\n",
       "    }\n",
       "\n",
       "    .dataframe tbody tr th {\n",
       "        vertical-align: top;\n",
       "    }\n",
       "\n",
       "    .dataframe thead th {\n",
       "        text-align: right;\n",
       "    }\n",
       "</style>\n",
       "<table border=\"1\" class=\"dataframe\">\n",
       "  <thead>\n",
       "    <tr style=\"text-align: right;\">\n",
       "      <th></th>\n",
       "      <th>Información [Bits]</th>\n",
       "    </tr>\n",
       "  </thead>\n",
       "  <tbody>\n",
       "    <tr>\n",
       "      <th>Entropia fuente</th>\n",
       "      <td>1.176758</td>\n",
       "    </tr>\n",
       "    <tr>\n",
       "      <th>Entropía máxima</th>\n",
       "      <td>1.945910</td>\n",
       "    </tr>\n",
       "  </tbody>\n",
       "</table>\n",
       "</div>"
      ],
      "text/plain": [
       "                 Información [Bits]\n",
       "Entropia fuente            1.176758\n",
       "Entropía máxima            1.945910"
      ]
     },
     "execution_count": 5,
     "metadata": {},
     "output_type": "execute_result"
    }
   ],
   "source": [
    "pd.Series({'Entropia fuente': entropia, 'Entropía máxima': max_entropia}).to_frame(name = \"Información [Bits]\")"
   ]
  },
  {
   "cell_type": "code",
   "execution_count": 6,
   "metadata": {
    "scrolled": true
   },
   "outputs": [
    {
     "data": {
      "image/png": "[encoded data removed]",
      "text/plain": [
       "<Figure size 432x288 with 1 Axes>"
      ]
     },
     "metadata": {},
     "output_type": "display_data"
    }
   ],
   "source": [
    "unibroad = pd.Series(data = freq).to_frame(name = \"Cantidad de Paquetes\").reset_index(level = 1, drop = True)\n",
    "unibroad = unibroad.reset_index().groupby('index').agg('sum')\n",
    "unibroad.plot(y = 'Cantidad de Paquetes', kind = 'pie', autopct='%1.0f%%', title='Cantidad de Paquetes').set_ylabel('')\n",
    "plt.show()"
   ]
  },
  {
   "cell_type": "code",
   "execution_count": 23,
   "metadata": {},
   "outputs": [
    {
     "data": {
      "image/png": "[encoded data removed]",
      "text/plain": [
       "<Figure size 432x288 with 1 Axes>"
      ]
     },
     "metadata": {},
     "output_type": "display_data"
    }
   ],
   "source": [
    "ax = tablainfo.plot(y = 'Información [Bits]', kind = 'bar', title = 'Información por símbolo')\n",
    "ax.set_ylabel('Información [Bits]')\n",
    "ax.set_xlabel('Símbolo')\n",
    "ax.plot([0, 6], [entropia, entropia], \"g--\")\n",
    "ax.annotate(\"entropía\", (0, entropia + 0.2))\n",
    "ax.plot([0, 6], [max_entropia, max_entropia], \"r--\")\n",
    "ax.annotate(\"entropía máxima\", (0, max_entropia + 0.2))\n",
    "plt.show()"
   ]
  }
 ],
 "metadata": {
  "kernelspec": {
   "display_name": "Python 3",
   "language": "python",
   "name": "python3"
  },
  "language_info": {
   "codemirror_mode": {
    "name": "ipython",
    "version": 3
   },
   "file_extension": ".py",
   "mimetype": "text/x-python",
   "name": "python",
   "nbconvert_exporter": "python",
   "pygments_lexer": "ipython3",
   "version": "3.6.5"
  }
 },
 "nbformat": 4,
 "nbformat_minor": 2
}
