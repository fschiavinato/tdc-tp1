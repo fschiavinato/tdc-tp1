{
 "cells": [
  {
   "cell_type": "code",
   "execution_count": 1,
   "metadata": {},
   "outputs": [],
   "source": [
    "from scapy.all import *\n",
    "import matplotlib.pyplot as plt\n",
    "import numpy as np\n",
    "import pandas as pd\n",
    "import math"
   ]
  },
  {
   "cell_type": "code",
   "execution_count": 2,
   "metadata": {},
   "outputs": [],
   "source": [
    "paquetes = rdpcap('../datos/sniff_ethernet.cap')"
   ]
  },
  {
   "cell_type": "code",
   "execution_count": 3,
   "metadata": {},
   "outputs": [],
   "source": [
    "freq = {}\n",
    "paquetes = paquetes.filter(lambda pkt: pkt.getlayer(1) != None and Ether in pkt)\n",
    "for pkt in paquetes:\n",
    "    # Ethernet\n",
    "    tipo = 'broadcast' if pkt[Ether].dst == 'ff:ff:ff:ff:ff:ff' else 'unicast'\n",
    "    proto = pkt.getlayer(1).name\n",
    "\n",
    "    # Wifi\n",
    "    #\n",
    "\n",
    "    freq[(tipo,proto)] = freq[(tipo,proto)] + 1 if (tipo,proto) in freq else 1\n",
    "\n",
    "entropia = 0\n",
    "for k in freq:\n",
    "        p = freq[k] / len(paquetes) \n",
    "        entropia += -p * math.log(p)\n",
    "        \n",
    "\n",
    "max_entropia = math.log(len(freq))"
   ]
  },
  {
   "cell_type": "code",
   "execution_count": 45,
   "metadata": {
    "scrolled": true
   },
   "outputs": [
    {
     "name": "stdout",
     "output_type": "stream",
     "text": [
      "                     Cantidad de Paquetes  Información [Bits]\n",
      "Tipo      Protocolo                                          \n",
      "unicast   LLC                           1            9.208138\n",
      "          EAPOL                        16            6.435549\n",
      "broadcast IP                          273            3.598666\n",
      "          ARP                         483            3.028121\n",
      "unicast   IPv6                       1284            2.050402\n",
      "          ARP                        2246            1.491232\n",
      "          IP                         5675            0.564312\n",
      "\n",
      "\\begin{tabular}{llrr}\n",
      "\\toprule\n",
      "          &     &  Cantidad de Paquetes &  Información [Bits] \\\\\n",
      "Tipo & Protocolo &                       &                     \\\\\n",
      "\\midrule\n",
      "unicast & LLC &                     1 &            9.208138 \\\\\n",
      "          & EAPOL &                    16 &            6.435549 \\\\\n",
      "broadcast & IP &                   273 &            3.598666 \\\\\n",
      "          & ARP &                   483 &            3.028121 \\\\\n",
      "unicast & IPv6 &                  1284 &            2.050402 \\\\\n",
      "          & ARP &                  2246 &            1.491232 \\\\\n",
      "          & IP &                  5675 &            0.564312 \\\\\n",
      "\\bottomrule\n",
      "\\end{tabular}\n",
      "\n"
     ]
    }
   ],
   "source": [
    "tablainfo = pd.Series(data = freq).to_frame(name = \"Cantidad de Paquetes\")\n",
    "tablainfo.index = tablainfo.index.set_names([\"Tipo\",\"Protocolo\"])\n",
    "tablainfo['Información [Bits]'] = tablainfo['Cantidad de Paquetes'].apply(lambda x: np.log(len(paquetes)/x))\n",
    "tablainfo.sort_values('Información [Bits]', inplace = True, ascending = False)\n",
    "print(tablainfo)\n",
    "print()\n",
    "print(tablainfo.to_latex())"
   ]
  },
  {
   "cell_type": "code",
   "execution_count": 44,
   "metadata": {},
   "outputs": [
    {
     "name": "stdout",
     "output_type": "stream",
     "text": [
      "                 Información [Bits]\n",
      "Entropia fuente            1.176758\n",
      "Entropía máxima            1.945910\n",
      "\n",
      "\\begin{tabular}{lr}\n",
      "\\toprule\n",
      "{} &  Información [Bits] \\\\\n",
      "\\midrule\n",
      "Entropia fuente &            1.176758 \\\\\n",
      "Entropía máxima &            1.945910 \\\\\n",
      "\\bottomrule\n",
      "\\end{tabular}\n",
      "\n"
     ]
    }
   ],
   "source": [
    "tablaentropia = pd.Series({'Entropia fuente': entropia, 'Entropía máxima': max_entropia}).to_frame(name = \"Información [Bits]\")\n",
    "print(tablaentropia)\n",
    "print()\n",
    "print(tablaentropia.to_latex())"
   ]
  },
  {
   "cell_type": "code",
   "execution_count": 28,
   "metadata": {
    "scrolled": true
   },
   "outputs": [
    {
     "data": {
      "image/png": "[encoded data removed]",
      "text/plain": [
       "<Figure size 360x360 with 1 Axes>"
      ]
     },
     "metadata": {},
     "output_type": "display_data"
    }
   ],
   "source": [
    "unibroad = pd.Series(data = freq).to_frame(name = \"Cantidad de Paquetes\").reset_index(level = 1, drop = True)\n",
    "unibroad = unibroad.reset_index().groupby('index').agg('sum')\n",
    "ax = unibroad.plot(y = 'Cantidad de Paquetes', kind = 'pie', autopct='%1.0f%%', title='Cantidad de Paquetes', figsize=(5,5))\n",
    "ax.set_ylabel('')\n",
    "\n",
    "plt.show()"
   ]
  },
  {
   "cell_type": "code",
   "execution_count": 23,
   "metadata": {},
   "outputs": [
    {
     "data": {
      "image/png": "[encoded data removed]",
      "text/plain": [
       "<Figure size 432x288 with 1 Axes>"
      ]
     },
     "metadata": {},
     "output_type": "display_data"
    }
   ],
   "source": [
    "ax = tablainfo.plot(y = 'Información [Bits]', kind = 'bar', title = 'Información por símbolo')\n",
    "ax.set_ylabel('Información [Bits]')\n",
    "ax.set_xlabel('Símbolo')\n",
    "ax.plot([0, 6], [entropia, entropia], \"g--\")\n",
    "ax.annotate(\"entropía\", (0, entropia + 0.2))\n",
    "ax.plot([0, 6], [max_entropia, max_entropia], \"r--\")\n",
    "ax.annotate(\"entropía máxima\", (0, max_entropia + 0.2))\n",
    "plt.show()"
   ]
  }
 ],
 "metadata": {
  "kernelspec": {
   "display_name": "Python 3",
   "language": "python",
   "name": "python3"
  },
  "language_info": {
   "codemirror_mode": {
    "name": "ipython",
    "version": 3
   },
   "file_extension": ".py",
   "mimetype": "text/x-python",
   "name": "python",
   "nbconvert_exporter": "python",
   "pygments_lexer": "ipython3",
   "version": "3.6.5"
  }
 },
 "nbformat": 4,
 "nbformat_minor": 2
}
