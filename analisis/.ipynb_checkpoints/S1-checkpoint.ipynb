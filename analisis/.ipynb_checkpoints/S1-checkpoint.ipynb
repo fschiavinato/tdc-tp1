{
 "cells": [
  {
   "cell_type": "code",
   "execution_count": 3,
   "metadata": {},
   "outputs": [],
   "source": [
    "from scapy.all import *\n",
    "import matplotlib.pyplot as plt\n",
    "import numpy as np\n",
    "import pandas as pd\n",
    "import math"
   ]
  },
  {
   "cell_type": "code",
   "execution_count": 5,
   "metadata": {},
   "outputs": [],
   "source": [
    "paquetes = rdpcap('../datos/sniff_ethernet.cap')"
   ]
  },
  {
   "cell_type": "code",
   "execution_count": 6,
   "metadata": {},
   "outputs": [],
   "source": [
    "freq = {}\n",
    "paquetes = paquetes.filter(lambda pkt: pkt.getlayer(1) != None and Ether in pkt)\n",
    "for pkt in paquetes:\n",
    "    # Ethernet\n",
    "    tipo = 'broadcast' if pkt[Ether].dst == 'ff:ff:ff:ff:ff:ff' else 'unicast'\n",
    "    proto = pkt.getlayer(1).name\n",
    "\n",
    "    # Wifi\n",
    "    #\n",
    "\n",
    "    freq[(tipo,proto)] = freq[(tipo,proto)] + 1 if (tipo,proto) in freq else 0\n",
    "\n",
    "entropia = 0\n",
    "for k in freq:\n",
    "        p = freq[k] / len(paquetes) \n",
    "        entropia += -p * math.log(p)\n",
    "\n",
    "max_entropia = math.log(len(freq))"
   ]
  },
  {
   "cell_type": "raw",
   "metadata": {},
   "source": [
    "tabla = pd.DataFrame(data = freq, index = ['paquetes'], orient = rows)\n",
    "tabla\n",
    "# tabla.assign(informacion = lambda x: np.log(x/len(freq)))"
   ]
  }
 ],
 "metadata": {
  "kernelspec": {
   "display_name": "Python 3",
   "language": "python",
   "name": "python3"
  },
  "language_info": {
   "codemirror_mode": {
    "name": "ipython",
    "version": 3
   },
   "file_extension": ".py",
   "mimetype": "text/x-python",
   "name": "python",
   "nbconvert_exporter": "python",
   "pygments_lexer": "ipython3",
   "version": "3.6.5"
  }
 },
 "nbformat": 4,
 "nbformat_minor": 2
}
