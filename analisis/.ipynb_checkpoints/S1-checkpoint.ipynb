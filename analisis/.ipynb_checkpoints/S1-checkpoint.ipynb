{
 "cells": [
  {
   "cell_type": "code",
   "execution_count": 73,
   "metadata": {
    "collapsed": true
   },
   "outputs": [],
   "source": [
    "from scapy.all import *\n",
    "import matplotlib.pyplot as plt\n",
    "import numpy as np\n",
    "import pandas as pd\n",
    "import math"
   ]
  },
  {
   "cell_type": "code",
   "execution_count": 74,
   "metadata": {
    "collapsed": true
   },
   "outputs": [],
   "source": [
    "paquetes = rdpcap('../datos/sniff_ethernet.cap')"
   ]
  },
  {
   "cell_type": "code",
   "execution_count": 75,
   "metadata": {
    "collapsed": true
   },
   "outputs": [],
   "source": [
    "freq = {}\n",
    "paquetes = paquetes.filter(lambda pkt: pkt.getlayer(1) != None and Ether in pkt)\n",
    "for pkt in paquetes:\n",
    "    # Ethernet\n",
    "    tipo = 'broadcast' if pkt[Ether].dst == 'ff:ff:ff:ff:ff:ff' else 'unicast'\n",
    "    proto = pkt.getlayer(1).name\n",
    "\n",
    "    # Wifi\n",
    "    #\n",
    "\n",
    "    freq[(tipo,proto)] = freq[(tipo,proto)] + 1 if (tipo,proto) in freq else 0\n",
    "\n",
    "entropia = 0\n",
    "for k in freq:\n",
    "        p = freq[k] / len(paquetes) \n",
    "        entropia += -p * math.log(p)\n",
    "\n",
    "max_entropia = math.log(len(freq))"
   ]
  },
  {
   "cell_type": "code",
   "execution_count": 81,
   "metadata": {
    "scrolled": true
   },
   "outputs": [
    {
     "data": {
      "text/html": [
       "<div>\n",
       "<style scoped>\n",
       "    .dataframe tbody tr th:only-of-type {\n",
       "        vertical-align: middle;\n",
       "    }\n",
       "\n",
       "    .dataframe tbody tr th {\n",
       "        vertical-align: top;\n",
       "    }\n",
       "\n",
       "    .dataframe thead th {\n",
       "        text-align: right;\n",
       "    }\n",
       "</style>\n",
       "<table border=\"1\" class=\"dataframe\">\n",
       "  <thead>\n",
       "    <tr style=\"text-align: right;\">\n",
       "      <th></th>\n",
       "      <th></th>\n",
       "      <th>Cantidad de Paquetes</th>\n",
       "      <th>Información[Bits]</th>\n",
       "    </tr>\n",
       "    <tr>\n",
       "      <th>Tipo</th>\n",
       "      <th>Protocolo</th>\n",
       "      <th></th>\n",
       "      <th></th>\n",
       "    </tr>\n",
       "  </thead>\n",
       "  <tbody>\n",
       "    <tr>\n",
       "      <th rowspan=\"2\" valign=\"top\">unicast</th>\n",
       "      <th>LLC</th>\n",
       "      <td>1</td>\n",
       "      <td>11.512645</td>\n",
       "    </tr>\n",
       "    <tr>\n",
       "      <th>EAPOL</th>\n",
       "      <td>7</td>\n",
       "      <td>9.566735</td>\n",
       "    </tr>\n",
       "    <tr>\n",
       "      <th>broadcast</th>\n",
       "      <th>ARP</th>\n",
       "      <td>176</td>\n",
       "      <td>6.342161</td>\n",
       "    </tr>\n",
       "    <tr>\n",
       "      <th>unicast</th>\n",
       "      <th>IPv6</th>\n",
       "      <td>2125</td>\n",
       "      <td>3.851118</td>\n",
       "    </tr>\n",
       "    <tr>\n",
       "      <th>broadcast</th>\n",
       "      <th>IP</th>\n",
       "      <td>2731</td>\n",
       "      <td>3.600222</td>\n",
       "    </tr>\n",
       "    <tr>\n",
       "      <th rowspan=\"2\" valign=\"top\">unicast</th>\n",
       "      <th>ARP</th>\n",
       "      <td>9946</td>\n",
       "      <td>2.307720</td>\n",
       "    </tr>\n",
       "    <tr>\n",
       "      <th>IP</th>\n",
       "      <td>84979</td>\n",
       "      <td>0.162486</td>\n",
       "    </tr>\n",
       "  </tbody>\n",
       "</table>\n",
       "</div>"
      ],
      "text/plain": [
       "                     Cantidad de Paquetes  Información[Bits]\n",
       "Tipo      Protocolo                                         \n",
       "unicast   LLC                           1          11.512645\n",
       "          EAPOL                         7           9.566735\n",
       "broadcast ARP                         176           6.342161\n",
       "unicast   IPv6                       2125           3.851118\n",
       "broadcast IP                         2731           3.600222\n",
       "unicast   ARP                        9946           2.307720\n",
       "          IP                        84979           0.162486"
      ]
     },
     "execution_count": 81,
     "metadata": {},
     "output_type": "execute_result"
    }
   ],
   "source": [
    "tablainfo = pd.Series(data = freq).to_frame(name = \"Cantidad de Paquetes\")\n",
    "tablainfo.index = tablainfo.index.set_names([\"Tipo\",\"Protocolo\"])\n",
    "tablainfo['Información[Bits]'] = tablainfo['Cantidad de Paquetes'].apply(lambda x: np.log(len(paquetes)/x))\n",
    "tablainfo.sort_values('Información[Bits]', inplace = True, ascending = False)\n",
    "tablainfo"
   ]
  },
  {
   "cell_type": "code",
   "execution_count": 82,
   "metadata": {
    "scrolled": true
   },
   "outputs": [
    {
     "data": {
      "text/plain": [
       "<matplotlib.axes._subplots.AxesSubplot at 0x7f0cd72d40b8>"
      ]
     },
     "execution_count": 82,
     "metadata": {},
     "output_type": "execute_result"
    }
   ],
   "source": [
    "unibroad = pd.Series(data = freq).to_frame(name = \"Cantidad de Paquetes\").reset_index(level = 1, drop = True)\n",
    "unibroad = unibroad.reset_index().groupby('index').agg('sum')\n",
    "unibroad.plot(y = 'Cantidad de Paquetes', kind = 'pie', autopct='%1.0f%%')"
   ]
  }
 ],
 "metadata": {
  "kernelspec": {
   "display_name": "Python 3",
   "language": "python",
   "name": "python3"
  },
  "language_info": {
   "codemirror_mode": {
    "name": "ipython",
    "version": 3
   },
   "file_extension": ".py",
   "mimetype": "text/x-python",
   "name": "python",
   "nbconvert_exporter": "python",
   "pygments_lexer": "ipython3",
   "version": "3.6.4"
  }
 },
 "nbformat": 4,
 "nbformat_minor": 2
}
