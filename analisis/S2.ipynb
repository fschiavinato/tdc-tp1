{
 "cells": [
  {
   "cell_type": "code",
   "execution_count": 1,
   "metadata": {
    "collapsed": true
   },
   "outputs": [],
   "source": [
    "from scapy.all import *\n",
    "import matplotlib.pyplot as plt\n",
    "import numpy as np\n",
    "import pandas as pd\n",
    "import math"
   ]
  },
  {
   "cell_type": "code",
   "execution_count": 25,
   "metadata": {},
   "outputs": [],
   "source": [
    "paquetes = rdpcap('../datos/sniff_casa_fede.cap')"
   ]
  },
  {
   "cell_type": "code",
   "execution_count": 53,
   "metadata": {
    "collapsed": true
   },
   "outputs": [],
   "source": [
    "paquetes = rdpcap('../datos/sniff_wifi_labo_filtrado.cap')"
   ]
  },
  {
   "cell_type": "code",
   "execution_count": 47,
   "metadata": {
    "collapsed": true
   },
   "outputs": [],
   "source": [
    "paquetes = rdpcap('../datos/sniff_casa_franco.cap')"
   ]
  },
  {
   "cell_type": "code",
   "execution_count": 55,
   "metadata": {
    "collapsed": true
   },
   "outputs": [],
   "source": [
    "lengthWhoHasPackets=0\n",
    "paquetes = paquetes[ARP]\n",
    "freq = {}\n",
    "\n",
    "for pkt in paquetes:\n",
    "    tipo = 'who-has' if pkt.op == 1 else 'is-at'\n",
    "    if tipo == 'who-has':\n",
    "        ip = pkt.pdst\n",
    "        lengthWhoHasPackets=lengthWhoHasPackets+1\n",
    "    else:\n",
    "        ip = pkt.psrc\n",
    "\n",
    "    if tipo == 'who-has':\n",
    "        freq[ip] = freq[ip] + 1 if ip in freq else 1"
   ]
  },
  {
   "cell_type": "code",
   "execution_count": 56,
   "metadata": {},
   "outputs": [
    {
     "name": "stdout",
     "output_type": "stream",
     "text": [
      " Indice  | IP              | Probabilidad       | Informacion       \n",
      " 1       | 10.2.203.254    | 0.6559139784946236 | 0.6084214735451452\n",
      " 2       | 10.2.202.252    | 0.007168458781362007 | 7.124121311829187 \n",
      " 3       | 10.2.203.106    | 0.2078853046594982 | 2.2661403167016156\n",
      " 4       | 10.2.203.72     | 0.0035842293906810036 | 8.124121311829187 \n",
      " 5       | 10.2.200.242    | 0.0023894862604540022 | 8.709083812550343 \n",
      " 6       | 10.2.202.57     | 0.0035842293906810036 | 8.124121311829187 \n",
      " 7       | 10.2.201.142    | 0.0035842293906810036 | 8.124121311829187 \n",
      " 8       | 10.2.201.37     | 0.0023894862604540022 | 8.709083812550343 \n",
      " 9       | 10.2.201.97     | 0.0035842293906810036 | 8.124121311829187 \n",
      " 10      | 10.2.202.114    | 0.005973715651135006 | 7.387155717662981 \n",
      " 11      | 10.2.200.213    | 0.007168458781362007 | 7.124121311829187 \n",
      " 12      | 10.2.202.2      | 0.0023894862604540022 | 8.709083812550343 \n",
      " 13      | 10.2.201.13     | 0.013142174432497013 | 6.249652193913047 \n",
      " 14      | 10.2.201.44     | 0.0011947431302270011 | 9.709083812550345 \n",
      " 15      | 10.2.201.16     | 0.0011947431302270011 | 9.709083812550345 \n",
      " 16      | 10.2.202.187    | 0.019115890083632018 | 5.709083812550344 \n",
      " 17      | 10.2.201.3      | 0.0011947431302270011 | 9.709083812550345 \n",
      " 18      | 10.2.203.144    | 0.014336917562724014 | 6.124121311829187 \n",
      " 19      | 10.2.201.182    | 0.0035842293906810036 | 8.124121311829187 \n",
      " 20      | 10.2.201.175    | 0.0023894862604540022 | 8.709083812550343 \n",
      " 21      | 10.2.203.108    | 0.0011947431302270011 | 9.709083812550345 \n",
      " 22      | 10.2.201.126    | 0.0035842293906810036 | 8.124121311829187 \n",
      " 23      | 10.2.201.214    | 0.0035842293906810036 | 8.124121311829187 \n",
      " 24      | 10.2.203.118    | 0.0023894862604540022 | 8.709083812550343 \n",
      " 25      | 10.2.203.18     | 0.009557945041816009 | 6.709083812550344 \n",
      " 26      | 10.2.200.196    | 0.005973715651135006 | 7.387155717662981 \n",
      " 27      | 10.2.200.205    | 0.0011947431302270011 | 9.709083812550345 \n",
      " 28      | 10.2.200.49     | 0.007168458781362007 | 7.124121311829187 \n",
      " 29      | 10.2.201.69     | 0.0035842293906810036 | 8.124121311829187 \n",
      "H(S2)=1.8498283810278133\n",
      "Max_H(S2)=4.857980995127573\n",
      "Ip distinguida: 10.2.203.254 | Cantidad de apariciones: 549\n",
      "{'10.2.203.254': 549, '10.2.202.252': 6, '10.2.203.106': 174, '10.2.203.72': 3, '10.2.200.242': 2, '10.2.202.57': 3, '10.2.201.142': 3, '10.2.201.37': 2, '10.2.201.97': 3, '10.2.202.114': 5, '10.2.200.213': 6, '10.2.202.2': 2, '10.2.201.13': 11, '10.2.201.44': 1, '10.2.201.16': 1, '10.2.202.187': 16, '10.2.201.3': 1, '10.2.203.144': 12, '10.2.201.182': 3, '10.2.201.175': 2, '10.2.203.108': 1, '10.2.201.126': 3, '10.2.201.214': 3, '10.2.203.118': 2, '10.2.203.18': 8, '10.2.200.196': 5, '10.2.200.205': 1, '10.2.200.49': 6, '10.2.201.69': 3}\n"
     ]
    }
   ],
   "source": [
    "#La tabla debe contener\n",
    "#<ip,informacion del simbolo, probabilidad del simbolo>\n",
    "#Entropia  y entropia maxima\n",
    "#print(\" Indice  | IP               | Probabilidad    | Informacion     \")\n",
    "print(\" \"+\"{:<7}\".format(\"Indice\")+\" | \"+\"{:<15}\".format(\"IP\")+\" | \"+\"{:<18}\".format(\"Probabilidad\")+\" | \"+\"{:<18}\".format(\"Informacion\"))\n",
    "entropia = 0\n",
    "indice =0\n",
    "ipDistinguida=list(freq.keys())[0]\n",
    "for _ip in freq:\n",
    "        p = (float)( freq[_ip]) / (float) (lengthWhoHasPackets)\n",
    "        i = (float) (-1) * (float)(math.log(p,2))\n",
    "        entropia += p * i\n",
    "        indice = indice +1\n",
    "        if freq[_ip] > freq[ipDistinguida]:\n",
    "            ipDistinguida=_ip\n",
    "        print(\" \"+\"{:<7}\".format(str(indice))+\" | \"+\"{:<15}\".format(str(_ip))+\" | \"+\"{:<18}\".format(str(p))+\" | \"+\"{:<18}\".format(str(i)))\n",
    "max_entropia = math.log(len(freq),2)\n",
    "print(\"H(S2)=\"+str(entropia))\n",
    "print(\"Max_H(S2)=\"+str(max_entropia))\n",
    "print(\"Ip distinguida: \"+ ipDistinguida +\" | Cantidad de apariciones: \"+str(freq[ipDistinguida]))\n",
    "print(freq)\n"
   ]
  },
  {
   "cell_type": "code",
   "execution_count": 16,
   "metadata": {},
   "outputs": [],
   "source": [
    "paquetes.conversations()"
   ]
  },
  {
   "cell_type": "code",
   "execution_count": 57,
   "metadata": {},
   "outputs": [
    {
     "name": "stdout",
     "output_type": "stream",
     "text": [
      "              Cantidad de Paquetes  Probabilidad  Información [Bits]\n",
      "Ip                                                                  \n",
      "10.2.201.44                      1      0.001103            6.810142\n",
      "10.2.203.108                     1      0.001103            6.810142\n",
      "10.2.201.16                      1      0.001103            6.810142\n",
      "10.2.200.205                     1      0.001103            6.810142\n",
      "10.2.201.3                       1      0.001103            6.810142\n",
      "10.2.201.37                      2      0.002205            6.116995\n",
      "10.2.203.118                     2      0.002205            6.116995\n",
      "10.2.200.242                     2      0.002205            6.116995\n",
      "10.2.202.2                       2      0.002205            6.116995\n",
      "10.2.201.175                     2      0.002205            6.116995\n",
      "10.2.202.57                      3      0.003308            5.711530\n",
      "10.2.201.97                      3      0.003308            5.711530\n",
      "10.2.201.69                      3      0.003308            5.711530\n",
      "10.2.203.72                      3      0.003308            5.711530\n",
      "10.2.201.214                     3      0.003308            5.711530\n",
      "10.2.201.182                     3      0.003308            5.711530\n",
      "10.2.201.142                     3      0.003308            5.711530\n",
      "10.2.201.126                     3      0.003308            5.711530\n",
      "10.2.202.114                     5      0.005513            5.200705\n",
      "10.2.200.196                     5      0.005513            5.200705\n",
      "10.2.202.252                     6      0.006615            5.018383\n",
      "10.2.200.49                      6      0.006615            5.018383\n",
      "10.2.200.213                     6      0.006615            5.018383\n",
      "10.2.203.18                      8      0.008820            4.730701\n",
      "10.2.201.13                     11      0.012128            4.412247\n",
      "10.2.203.144                    12      0.013230            4.325236\n",
      "10.2.202.187                    16      0.017641            4.037554\n",
      "10.2.203.106                   174      0.191841            1.651087\n",
      "10.2.203.254                   549      0.605292            0.502044\n",
      "\n",
      "\\begin{tabular}{lrrr}\n",
      "\\toprule\n",
      "{} &  Cantidad de Paquetes &  Probabilidad &  Información [Bits] \\\\\n",
      "Ip           &                       &               &                     \\\\\n",
      "\\midrule\n",
      "10.2.201.44  &                     1 &      0.001103 &            6.810142 \\\\\n",
      "10.2.203.108 &                     1 &      0.001103 &            6.810142 \\\\\n",
      "10.2.201.16  &                     1 &      0.001103 &            6.810142 \\\\\n",
      "10.2.200.205 &                     1 &      0.001103 &            6.810142 \\\\\n",
      "10.2.201.3   &                     1 &      0.001103 &            6.810142 \\\\\n",
      "10.2.201.37  &                     2 &      0.002205 &            6.116995 \\\\\n",
      "10.2.203.118 &                     2 &      0.002205 &            6.116995 \\\\\n",
      "10.2.200.242 &                     2 &      0.002205 &            6.116995 \\\\\n",
      "10.2.202.2   &                     2 &      0.002205 &            6.116995 \\\\\n",
      "10.2.201.175 &                     2 &      0.002205 &            6.116995 \\\\\n",
      "10.2.202.57  &                     3 &      0.003308 &            5.711530 \\\\\n",
      "10.2.201.97  &                     3 &      0.003308 &            5.711530 \\\\\n",
      "10.2.201.69  &                     3 &      0.003308 &            5.711530 \\\\\n",
      "10.2.203.72  &                     3 &      0.003308 &            5.711530 \\\\\n",
      "10.2.201.214 &                     3 &      0.003308 &            5.711530 \\\\\n",
      "10.2.201.182 &                     3 &      0.003308 &            5.711530 \\\\\n",
      "10.2.201.142 &                     3 &      0.003308 &            5.711530 \\\\\n",
      "10.2.201.126 &                     3 &      0.003308 &            5.711530 \\\\\n",
      "10.2.202.114 &                     5 &      0.005513 &            5.200705 \\\\\n",
      "10.2.200.196 &                     5 &      0.005513 &            5.200705 \\\\\n",
      "10.2.202.252 &                     6 &      0.006615 &            5.018383 \\\\\n",
      "10.2.200.49  &                     6 &      0.006615 &            5.018383 \\\\\n",
      "10.2.200.213 &                     6 &      0.006615 &            5.018383 \\\\\n",
      "10.2.203.18  &                     8 &      0.008820 &            4.730701 \\\\\n",
      "10.2.201.13  &                    11 &      0.012128 &            4.412247 \\\\\n",
      "10.2.203.144 &                    12 &      0.013230 &            4.325236 \\\\\n",
      "10.2.202.187 &                    16 &      0.017641 &            4.037554 \\\\\n",
      "10.2.203.106 &                   174 &      0.191841 &            1.651087 \\\\\n",
      "10.2.203.254 &                   549 &      0.605292 &            0.502044 \\\\\n",
      "\\bottomrule\n",
      "\\end{tabular}\n",
      "\n"
     ]
    }
   ],
   "source": [
    "tablainfo = pd.Series(data = freq).to_frame(name = \"Cantidad de Paquetes\")\n",
    "tablainfo.index = tablainfo.index.set_names([\"Ip\"])\n",
    "tablainfo['Probabilidad'] = tablainfo['Cantidad de Paquetes'].apply(lambda x: x / len(paquetes))\n",
    "tablainfo['Información [Bits]'] = tablainfo['Cantidad de Paquetes'].apply(lambda x: np.log(len(paquetes)/x))\n",
    "tablainfo.sort_values('Información [Bits]', inplace = True, ascending = False)\n",
    "print(tablainfo)\n",
    "print()\n",
    "print(tablainfo.to_latex())"
   ]
  },
  {
   "cell_type": "code",
   "execution_count": 59,
   "metadata": {},
   "outputs": [
    {
     "data": {
      "image/png": "[encoded data removed]",
      "text/plain": [
       "<matplotlib.figure.Figure at 0x7f7ade05e3c8>"
      ]
     },
     "metadata": {},
     "output_type": "display_data"
    }
   ],
   "source": [
    "ax = tablainfo.plot(y = 'Información [Bits]', kind = 'bar', title = 'Información por símbolo', figsize=(15,5))\n",
    "ax.set_ylabel('Información [Bits]')\n",
    "ax.set_xlabel('Símbolo')\n",
    "ax.plot([0, len(freq.keys())-1], [entropia, entropia], \"g--\")\n",
    "ax.annotate(\"entropía\", (0, entropia + 0.1))\n",
    "ax.plot([0, len(freq.keys())-1], [max_entropia, max_entropia], \"r--\")\n",
    "ax.annotate(\"entropía máxima\", (0, max_entropia + 0.1))\n",
    "plt.show()"
   ]
  }
 ],
 "metadata": {
  "kernelspec": {
   "display_name": "Python 3",
   "language": "python",
   "name": "python3"
  },
  "language_info": {
   "codemirror_mode": {
    "name": "ipython",
    "version": 3
   },
   "file_extension": ".py",
   "mimetype": "text/x-python",
   "name": "python",
   "nbconvert_exporter": "python",
   "pygments_lexer": "ipython3",
   "version": "3.6.4"
  }
 },
 "nbformat": 4,
 "nbformat_minor": 2
}
